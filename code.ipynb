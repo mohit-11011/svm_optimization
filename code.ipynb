{
 "cells": [
  {
   "cell_type": "code",
   "execution_count": 1,
   "metadata": {},
   "outputs": [],
   "source": [
    "import numpy as np\n",
    "import pandas as pd"
   ]
  },
  {
   "cell_type": "code",
   "execution_count": 2,
   "metadata": {},
   "outputs": [
    {
     "name": "stdout",
     "output_type": "stream",
     "text": [
      "         0         1         2         3         4         5         6   \\\n",
      "0  0.266074 -0.165620  0.320980  0.483299  0.172340  0.273364  0.371178   \n",
      "1  0.130292  0.870736 -3.210528  0.062493  0.261718  1.436060  1.465940   \n",
      "2 -0.116585  0.069915  0.068476 -0.783147  0.261718  0.439463 -0.081827   \n",
      "3  0.031541  0.297600 -3.210528 -0.583590 -0.721442 -0.307984  0.710932   \n",
      "4  0.229043  0.807926 -0.052442  0.082634  0.261718  0.148790  0.635431   \n",
      "\n",
      "         7         8         9  10  \n",
      "0  0.929823  0.251173  0.159345  A  \n",
      "1  0.636203  0.282354  0.515587  A  \n",
      "2 -0.888236 -0.123005  0.582939  A  \n",
      "3  1.051693  0.594169 -0.533994  A  \n",
      "4  0.051062  0.032902 -0.086652  F  \n",
      "20867\n"
     ]
    },
    {
     "data": {
      "text/html": [
       "<div>\n",
       "<style scoped>\n",
       "    .dataframe tbody tr th:only-of-type {\n",
       "        vertical-align: middle;\n",
       "    }\n",
       "\n",
       "    .dataframe tbody tr th {\n",
       "        vertical-align: top;\n",
       "    }\n",
       "\n",
       "    .dataframe thead th {\n",
       "        text-align: right;\n",
       "    }\n",
       "</style>\n",
       "<table border=\"1\" class=\"dataframe\">\n",
       "  <thead>\n",
       "    <tr style=\"text-align: right;\">\n",
       "      <th></th>\n",
       "      <th>0</th>\n",
       "      <th>1</th>\n",
       "      <th>2</th>\n",
       "      <th>3</th>\n",
       "      <th>4</th>\n",
       "      <th>5</th>\n",
       "      <th>6</th>\n",
       "      <th>7</th>\n",
       "      <th>8</th>\n",
       "      <th>9</th>\n",
       "      <th>10</th>\n",
       "    </tr>\n",
       "  </thead>\n",
       "  <tbody>\n",
       "    <tr>\n",
       "      <th>0</th>\n",
       "      <td>0.266074</td>\n",
       "      <td>-0.165620</td>\n",
       "      <td>0.320980</td>\n",
       "      <td>0.483299</td>\n",
       "      <td>0.172340</td>\n",
       "      <td>0.273364</td>\n",
       "      <td>0.371178</td>\n",
       "      <td>0.929823</td>\n",
       "      <td>0.251173</td>\n",
       "      <td>0.159345</td>\n",
       "      <td>0</td>\n",
       "    </tr>\n",
       "    <tr>\n",
       "      <th>1</th>\n",
       "      <td>0.130292</td>\n",
       "      <td>0.870736</td>\n",
       "      <td>-3.210528</td>\n",
       "      <td>0.062493</td>\n",
       "      <td>0.261718</td>\n",
       "      <td>1.436060</td>\n",
       "      <td>1.465940</td>\n",
       "      <td>0.636203</td>\n",
       "      <td>0.282354</td>\n",
       "      <td>0.515587</td>\n",
       "      <td>0</td>\n",
       "    </tr>\n",
       "    <tr>\n",
       "      <th>2</th>\n",
       "      <td>-0.116585</td>\n",
       "      <td>0.069915</td>\n",
       "      <td>0.068476</td>\n",
       "      <td>-0.783147</td>\n",
       "      <td>0.261718</td>\n",
       "      <td>0.439463</td>\n",
       "      <td>-0.081827</td>\n",
       "      <td>-0.888236</td>\n",
       "      <td>-0.123005</td>\n",
       "      <td>0.582939</td>\n",
       "      <td>0</td>\n",
       "    </tr>\n",
       "    <tr>\n",
       "      <th>3</th>\n",
       "      <td>0.031541</td>\n",
       "      <td>0.297600</td>\n",
       "      <td>-3.210528</td>\n",
       "      <td>-0.583590</td>\n",
       "      <td>-0.721442</td>\n",
       "      <td>-0.307984</td>\n",
       "      <td>0.710932</td>\n",
       "      <td>1.051693</td>\n",
       "      <td>0.594169</td>\n",
       "      <td>-0.533994</td>\n",
       "      <td>0</td>\n",
       "    </tr>\n",
       "    <tr>\n",
       "      <th>4</th>\n",
       "      <td>0.229043</td>\n",
       "      <td>0.807926</td>\n",
       "      <td>-0.052442</td>\n",
       "      <td>0.082634</td>\n",
       "      <td>0.261718</td>\n",
       "      <td>0.148790</td>\n",
       "      <td>0.635431</td>\n",
       "      <td>0.051062</td>\n",
       "      <td>0.032902</td>\n",
       "      <td>-0.086652</td>\n",
       "      <td>5</td>\n",
       "    </tr>\n",
       "    <tr>\n",
       "      <th>...</th>\n",
       "      <td>...</td>\n",
       "      <td>...</td>\n",
       "      <td>...</td>\n",
       "      <td>...</td>\n",
       "      <td>...</td>\n",
       "      <td>...</td>\n",
       "      <td>...</td>\n",
       "      <td>...</td>\n",
       "      <td>...</td>\n",
       "      <td>...</td>\n",
       "      <td>...</td>\n",
       "    </tr>\n",
       "    <tr>\n",
       "      <th>10432</th>\n",
       "      <td>-0.128929</td>\n",
       "      <td>-0.040001</td>\n",
       "      <td>0.057807</td>\n",
       "      <td>0.557894</td>\n",
       "      <td>0.261718</td>\n",
       "      <td>-0.930856</td>\n",
       "      <td>-0.044076</td>\n",
       "      <td>1.158458</td>\n",
       "      <td>2.277968</td>\n",
       "      <td>-0.699884</td>\n",
       "      <td>10</td>\n",
       "    </tr>\n",
       "    <tr>\n",
       "      <th>10433</th>\n",
       "      <td>0.266074</td>\n",
       "      <td>0.556689</td>\n",
       "      <td>-0.020434</td>\n",
       "      <td>0.176624</td>\n",
       "      <td>0.261718</td>\n",
       "      <td>-0.515608</td>\n",
       "      <td>0.597681</td>\n",
       "      <td>0.178349</td>\n",
       "      <td>0.625350</td>\n",
       "      <td>-0.657245</td>\n",
       "      <td>6</td>\n",
       "    </tr>\n",
       "    <tr>\n",
       "      <th>10434</th>\n",
       "      <td>-0.054866</td>\n",
       "      <td>0.580242</td>\n",
       "      <td>0.032912</td>\n",
       "      <td>-0.016668</td>\n",
       "      <td>0.261718</td>\n",
       "      <td>1.519109</td>\n",
       "      <td>0.371178</td>\n",
       "      <td>-0.985508</td>\n",
       "      <td>-0.403638</td>\n",
       "      <td>1.276301</td>\n",
       "      <td>0</td>\n",
       "    </tr>\n",
       "    <tr>\n",
       "      <th>10435</th>\n",
       "      <td>0.080916</td>\n",
       "      <td>0.588093</td>\n",
       "      <td>0.015130</td>\n",
       "      <td>0.002250</td>\n",
       "      <td>0.261718</td>\n",
       "      <td>-0.930856</td>\n",
       "      <td>-0.270579</td>\n",
       "      <td>0.163807</td>\n",
       "      <td>-0.091823</td>\n",
       "      <td>-0.593329</td>\n",
       "      <td>5</td>\n",
       "    </tr>\n",
       "    <tr>\n",
       "      <th>10436</th>\n",
       "      <td>0.377169</td>\n",
       "      <td>0.014957</td>\n",
       "      <td>0.381439</td>\n",
       "      <td>0.292753</td>\n",
       "      <td>0.261718</td>\n",
       "      <td>-1.470679</td>\n",
       "      <td>-0.006326</td>\n",
       "      <td>-0.494919</td>\n",
       "      <td>-0.247731</td>\n",
       "      <td>-1.212974</td>\n",
       "      <td>7</td>\n",
       "    </tr>\n",
       "  </tbody>\n",
       "</table>\n",
       "<p>20867 rows × 11 columns</p>\n",
       "</div>"
      ],
      "text/plain": [
       "             0         1         2         3         4         5         6   \\\n",
       "0      0.266074 -0.165620  0.320980  0.483299  0.172340  0.273364  0.371178   \n",
       "1      0.130292  0.870736 -3.210528  0.062493  0.261718  1.436060  1.465940   \n",
       "2     -0.116585  0.069915  0.068476 -0.783147  0.261718  0.439463 -0.081827   \n",
       "3      0.031541  0.297600 -3.210528 -0.583590 -0.721442 -0.307984  0.710932   \n",
       "4      0.229043  0.807926 -0.052442  0.082634  0.261718  0.148790  0.635431   \n",
       "...         ...       ...       ...       ...       ...       ...       ...   \n",
       "10432 -0.128929 -0.040001  0.057807  0.557894  0.261718 -0.930856 -0.044076   \n",
       "10433  0.266074  0.556689 -0.020434  0.176624  0.261718 -0.515608  0.597681   \n",
       "10434 -0.054866  0.580242  0.032912 -0.016668  0.261718  1.519109  0.371178   \n",
       "10435  0.080916  0.588093  0.015130  0.002250  0.261718 -0.930856 -0.270579   \n",
       "10436  0.377169  0.014957  0.381439  0.292753  0.261718 -1.470679 -0.006326   \n",
       "\n",
       "             7         8         9   10  \n",
       "0      0.929823  0.251173  0.159345   0  \n",
       "1      0.636203  0.282354  0.515587   0  \n",
       "2     -0.888236 -0.123005  0.582939   0  \n",
       "3      1.051693  0.594169 -0.533994   0  \n",
       "4      0.051062  0.032902 -0.086652   5  \n",
       "...         ...       ...       ...  ..  \n",
       "10432  1.158458  2.277968 -0.699884  10  \n",
       "10433  0.178349  0.625350 -0.657245   6  \n",
       "10434 -0.985508 -0.403638  1.276301   0  \n",
       "10435  0.163807 -0.091823 -0.593329   5  \n",
       "10436 -0.494919 -0.247731 -1.212974   7  \n",
       "\n",
       "[20867 rows x 11 columns]"
      ]
     },
     "execution_count": 2,
     "metadata": {},
     "output_type": "execute_result"
    }
   ],
   "source": [
    "df1=pd.read_csv(\"avila-tr.txt\",header=None)\n",
    "df2=pd.read_csv(\"avila-ts.txt\",header=None)\n",
    "ds= pd.concat([df1, df2], axis=0)\n",
    "print(ds.head())\n",
    "print(len(ds))\n",
    "from sklearn.preprocessing import LabelEncoder, OneHotEncoder\n",
    "le = LabelEncoder()\n",
    "ds[10] = le.fit_transform(ds[10])\n",
    "ds"
   ]
  },
  {
   "cell_type": "code",
   "execution_count": 3,
   "metadata": {},
   "outputs": [],
   "source": [
    "samples = np.array_split(ds, 10)"
   ]
  },
  {
   "cell_type": "code",
   "execution_count": 4,
   "metadata": {},
   "outputs": [
    {
     "name": "stdout",
     "output_type": "stream",
     "text": [
      "2087\n",
      "2087\n",
      "2087\n",
      "2087\n",
      "2087\n",
      "2087\n",
      "2087\n",
      "2086\n",
      "2086\n",
      "2086\n"
     ]
    }
   ],
   "source": [
    "for i in range(10):\n",
    "    print(len(samples[i]))"
   ]
  },
  {
   "cell_type": "code",
   "execution_count": 5,
   "metadata": {},
   "outputs": [
    {
     "name": "stdout",
     "output_type": "stream",
     "text": [
      "         0         1         2         3         4         5         6   \\\n",
      "5  0.068573 -0.181323 -3.210528 -0.294311 -1.168333  0.356414 -0.006326   \n",
      "6 -0.301743 -0.314793  0.399221  0.770520  0.708609  0.564038 -1.403091   \n",
      "7  0.031541 -0.118513  0.374326 -0.066706  0.261718  0.605563  0.559930   \n",
      "8 -0.091897 -0.118513  0.189393  1.280303  0.261718  0.314889  0.069175   \n",
      "9  0.377169  0.014957  0.381439  0.292753  0.261718 -0.307984  0.522180   \n",
      "\n",
      "         7         8         9   10  \n",
      "5 -0.219550  0.126447  0.448186   5  \n",
      "6 -1.459107 -0.091823  1.627420  11  \n",
      "7 -0.258129  0.095265  0.344766   0  \n",
      "8  1.277183  0.531806  0.359002   0  \n",
      "9  0.370989  0.562987 -0.440132   7  \n"
     ]
    }
   ],
   "source": [
    "print(samples[5].head())"
   ]
  },
  {
   "cell_type": "code",
   "execution_count": 6,
   "metadata": {},
   "outputs": [],
   "source": [
    "from sklearn.model_selection import train_test_split\n",
    "from sklearn.metrics import accuracy_score\n",
    "import random\n",
    "from sklearn.svm import *"
   ]
  },
  {
   "cell_type": "code",
   "execution_count": 7,
   "metadata": {},
   "outputs": [],
   "source": [
    "t_sample=[]\n",
    "t_accuracy=[]\n",
    "t_kernel=[]\n",
    "t_c=[]\n",
    "t_gamma=[]"
   ]
  },
  {
   "cell_type": "code",
   "execution_count": 8,
   "metadata": {},
   "outputs": [],
   "source": [
    "klist=['linear','poly','rbf','sigmoid']\n",
    "for i in range(10):\n",
    "    t_sample.append(f\"s{i+1}\")\n",
    "    y=samples[i][10]\n",
    "    x=samples[i].drop(10,axis=1)\n",
    "    x_train, x_test, y_train, y_test = train_test_split(x, y, test_size=0.3)\n",
    "    s_accuracy=0\n",
    "    s_c=0\n",
    "    s_gamma=0\n",
    "    s_kernel=\"\"\n",
    "    iteration=1000\n",
    "    for j in range(iteration):\n",
    "        c_temp = random.randint(1, 100)/100\n",
    "        gamma_temp= random.randint(1, 100)/100\n",
    "        kernel_n=random.randint(0, 3)\n",
    "        model = SVC(kernel=klist[kernel_n],C=c_temp,gamma=gamma_temp)\n",
    "        model.fit(x_train, y_train)\n",
    "        y_pred = model.predict(x_test)\n",
    "        accuracy = accuracy_score(y_test, y_pred)\n",
    "        if accuracy>s_accuracy:\n",
    "            s_accuracy=accuracy\n",
    "            s_c=c_temp\n",
    "            s_gamma=gamma_temp\n",
    "            s_kernel=klist[kernel_n]\n",
    "    t_accuracy.append(s_accuracy)\n",
    "    t_kernel.append(s_kernel)\n",
    "    t_c.append(s_c)\n",
    "    t_gamma.append(s_gamma)\n",
    "\n",
    "        \n",
    "    "
   ]
  },
  {
   "cell_type": "code",
   "execution_count": 9,
   "metadata": {},
   "outputs": [
    {
     "name": "stdout",
     "output_type": "stream",
     "text": [
      "[0.6539074960127592, 0.6570972886762361, 0.6427432216905901, 0.6810207336523126, 0.6411483253588517, 0.6523125996810207, 0.6730462519936204, 0.6182108626198083, 0.6261980830670927, 0.5990415335463258]\n"
     ]
    }
   ],
   "source": [
    "print(t_accuracy)"
   ]
  },
  {
   "cell_type": "code",
   "execution_count": 10,
   "metadata": {},
   "outputs": [
    {
     "name": "stdout",
     "output_type": "stream",
     "text": [
      "['rbf', 'rbf', 'rbf', 'rbf', 'rbf', 'poly', 'rbf', 'rbf', 'rbf', 'rbf']\n"
     ]
    }
   ],
   "source": [
    "print(t_kernel)"
   ]
  },
  {
   "cell_type": "code",
   "execution_count": 11,
   "metadata": {},
   "outputs": [
    {
     "name": "stdout",
     "output_type": "stream",
     "text": [
      "[1.0, 0.96, 0.99, 0.95, 1.0, 0.87, 0.98, 0.97, 0.97, 1.0]\n"
     ]
    }
   ],
   "source": [
    "print(t_c)"
   ]
  },
  {
   "cell_type": "code",
   "execution_count": 12,
   "metadata": {},
   "outputs": [
    {
     "name": "stdout",
     "output_type": "stream",
     "text": [
      "[0.33, 0.41, 0.38, 0.49, 0.44, 0.94, 0.37, 0.51, 0.23, 0.32]\n"
     ]
    }
   ],
   "source": [
    "print(t_gamma)"
   ]
  },
  {
   "cell_type": "code",
   "execution_count": 13,
   "metadata": {},
   "outputs": [],
   "source": [
    "summary={'Sample':t_sample,'Accuracy':t_accuracy,'Kernel':t_kernel,'C':t_c,'Gamma':t_gamma}\n",
    "table= pd.DataFrame(summary)"
   ]
  },
  {
   "cell_type": "code",
   "execution_count": 14,
   "metadata": {},
   "outputs": [
    {
     "data": {
      "text/html": [
       "<div>\n",
       "<style scoped>\n",
       "    .dataframe tbody tr th:only-of-type {\n",
       "        vertical-align: middle;\n",
       "    }\n",
       "\n",
       "    .dataframe tbody tr th {\n",
       "        vertical-align: top;\n",
       "    }\n",
       "\n",
       "    .dataframe thead th {\n",
       "        text-align: right;\n",
       "    }\n",
       "</style>\n",
       "<table border=\"1\" class=\"dataframe\">\n",
       "  <thead>\n",
       "    <tr style=\"text-align: right;\">\n",
       "      <th></th>\n",
       "      <th>Sample</th>\n",
       "      <th>Accuracy</th>\n",
       "      <th>Kernel</th>\n",
       "      <th>C</th>\n",
       "      <th>Gamma</th>\n",
       "    </tr>\n",
       "  </thead>\n",
       "  <tbody>\n",
       "    <tr>\n",
       "      <th>0</th>\n",
       "      <td>s1</td>\n",
       "      <td>0.653907</td>\n",
       "      <td>rbf</td>\n",
       "      <td>1.00</td>\n",
       "      <td>0.33</td>\n",
       "    </tr>\n",
       "    <tr>\n",
       "      <th>1</th>\n",
       "      <td>s2</td>\n",
       "      <td>0.657097</td>\n",
       "      <td>rbf</td>\n",
       "      <td>0.96</td>\n",
       "      <td>0.41</td>\n",
       "    </tr>\n",
       "    <tr>\n",
       "      <th>2</th>\n",
       "      <td>s3</td>\n",
       "      <td>0.642743</td>\n",
       "      <td>rbf</td>\n",
       "      <td>0.99</td>\n",
       "      <td>0.38</td>\n",
       "    </tr>\n",
       "    <tr>\n",
       "      <th>3</th>\n",
       "      <td>s4</td>\n",
       "      <td>0.681021</td>\n",
       "      <td>rbf</td>\n",
       "      <td>0.95</td>\n",
       "      <td>0.49</td>\n",
       "    </tr>\n",
       "    <tr>\n",
       "      <th>4</th>\n",
       "      <td>s5</td>\n",
       "      <td>0.641148</td>\n",
       "      <td>rbf</td>\n",
       "      <td>1.00</td>\n",
       "      <td>0.44</td>\n",
       "    </tr>\n",
       "    <tr>\n",
       "      <th>5</th>\n",
       "      <td>s6</td>\n",
       "      <td>0.652313</td>\n",
       "      <td>poly</td>\n",
       "      <td>0.87</td>\n",
       "      <td>0.94</td>\n",
       "    </tr>\n",
       "    <tr>\n",
       "      <th>6</th>\n",
       "      <td>s7</td>\n",
       "      <td>0.673046</td>\n",
       "      <td>rbf</td>\n",
       "      <td>0.98</td>\n",
       "      <td>0.37</td>\n",
       "    </tr>\n",
       "    <tr>\n",
       "      <th>7</th>\n",
       "      <td>s8</td>\n",
       "      <td>0.618211</td>\n",
       "      <td>rbf</td>\n",
       "      <td>0.97</td>\n",
       "      <td>0.51</td>\n",
       "    </tr>\n",
       "    <tr>\n",
       "      <th>8</th>\n",
       "      <td>s9</td>\n",
       "      <td>0.626198</td>\n",
       "      <td>rbf</td>\n",
       "      <td>0.97</td>\n",
       "      <td>0.23</td>\n",
       "    </tr>\n",
       "    <tr>\n",
       "      <th>9</th>\n",
       "      <td>s10</td>\n",
       "      <td>0.599042</td>\n",
       "      <td>rbf</td>\n",
       "      <td>1.00</td>\n",
       "      <td>0.32</td>\n",
       "    </tr>\n",
       "  </tbody>\n",
       "</table>\n",
       "</div>"
      ],
      "text/plain": [
       "  Sample  Accuracy Kernel     C  Gamma\n",
       "0     s1  0.653907    rbf  1.00   0.33\n",
       "1     s2  0.657097    rbf  0.96   0.41\n",
       "2     s3  0.642743    rbf  0.99   0.38\n",
       "3     s4  0.681021    rbf  0.95   0.49\n",
       "4     s5  0.641148    rbf  1.00   0.44\n",
       "5     s6  0.652313   poly  0.87   0.94\n",
       "6     s7  0.673046    rbf  0.98   0.37\n",
       "7     s8  0.618211    rbf  0.97   0.51\n",
       "8     s9  0.626198    rbf  0.97   0.23\n",
       "9    s10  0.599042    rbf  1.00   0.32"
      ]
     },
     "execution_count": 14,
     "metadata": {},
     "output_type": "execute_result"
    }
   ],
   "source": [
    "table"
   ]
  },
  {
   "cell_type": "code",
   "execution_count": 15,
   "metadata": {},
   "outputs": [],
   "source": [
    "table.to_csv('summary.csv', index=False)"
   ]
  },
  {
   "cell_type": "code",
   "execution_count": 16,
   "metadata": {},
   "outputs": [
    {
     "name": "stdout",
     "output_type": "stream",
     "text": [
      "s4 has maximum accuracy\n"
     ]
    }
   ],
   "source": [
    "iterations=[]\n",
    "y_accuracy=[]\n",
    "max_acc=0\n",
    "for i in range(10):\n",
    "    if table[\"Accuracy\"][i]==max(table[\"Accuracy\"]):\n",
    "        y=samples[i][10]\n",
    "        x=samples[i].drop(10,axis=1)\n",
    "        x_train, x_test, y_train, y_test = train_test_split(x, y, test_size=0.3)\n",
    "        print(f'{table[\"Sample\"][i]} has maximum accuracy')\n",
    "        for j in range(iteration):\n",
    "            c_temp = random.randint(1, 100)/100\n",
    "            gamma_temp= random.randint(1, 100)/100\n",
    "            kernel_n=random.randint(0, 3)\n",
    "            model = SVC(kernel=klist[kernel_n],C=c_temp,gamma=gamma_temp)\n",
    "            model.fit(x_train, y_train)\n",
    "            y_pred = model.predict(x_test)\n",
    "            accuracy = accuracy_score(y_test, y_pred)\n",
    "            max_acc=max(accuracy,max_acc)\n",
    "            iterations.append(j+1)\n",
    "            y_accuracy.append(max_acc)\n",
    "                \n",
    "\n",
    "            \n",
    "\n",
    "        "
   ]
  },
  {
   "cell_type": "code",
   "execution_count": 19,
   "metadata": {},
   "outputs": [],
   "source": [
    "import matplotlib.pyplot as plt\n",
    "\n"
   ]
  },
  {
   "cell_type": "code",
   "execution_count": 20,
   "metadata": {},
   "outputs": [
    {
     "data": {
      "image/png": "[encoded data removed]",
      "text/plain": [
       "<Figure size 1000x800 with 1 Axes>"
      ]
     },
     "metadata": {},
     "output_type": "display_data"
    }
   ],
   "source": [
    "plt.figure(figsize=(10, 8))\n",
    "plt.plot(iterations, y_accuracy)\n",
    "plt.xlabel('Iterations')\n",
    "plt.ylabel('Accuracy')\n",
    "plt.title('Iterations vs accuracy')\n",
    "plt.savefig('iter_vs_acc.jpeg')\n",
    "plt.show()"
   ]
  }
 ],
 "metadata": {
  "kernelspec": {
   "display_name": "Python 3",
   "language": "python",
   "name": "python3"
  },
  "language_info": {
   "codemirror_mode": {
    "name": "ipython",
    "version": 3
   },
   "file_extension": ".py",
   "mimetype": "text/x-python",
   "name": "python",
   "nbconvert_exporter": "python",
   "pygments_lexer": "ipython3",
   "version": "3.10.7"
  },
  "orig_nbformat": 4
 },
 "nbformat": 4,
 "nbformat_minor": 2
}
